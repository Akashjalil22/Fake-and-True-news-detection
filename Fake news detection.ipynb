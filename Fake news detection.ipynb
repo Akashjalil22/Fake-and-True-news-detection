{
 "cells": [
  {
   "cell_type": "markdown",
   "metadata": {},
   "source": [
    "# Detecting Fake News using an LTSM Neural Network with Word2Vec Embeddings"
   ]
  },
  {
   "cell_type": "markdown",
   "metadata": {},
   "source": [
    "This report uses the fake and real news dataset from Kaggle (https://www.kaggle.com/clmentbisaillon/fake-and-real-news-dataset). We will specifically focus on building a long term short memory (LSTM) neural network to predict whether or not a given piece of text is fake or true.\n",
    "\n",
    "The appeal of using a LSTM RNN is due to its ability to remember information for a long period of time. This is useful when a given text can be several hundreds of words long. A traditional RNN may be useful for short pieces of text but they run into long term dependency issues with larger texts. LSTM are specifically designed to remember, this makes them ideal for the given task."
   ]
  },
  {
   "cell_type": "markdown",
   "metadata": {},
   "source": [
    "Lets load some package to analyse our data before we look at building a model"
   ]
  },
  {
   "cell_type": "code",
   "execution_count": 1,
   "metadata": {},
   "outputs": [],
   "source": [
    "import os\n",
    "import pandas as pd\n",
    "import datetime as dt\n",
    "from string import punctuation\n",
    "import matplotlib.pyplot as plt\n",
    "import nltk\n",
    "import re\n",
    "import gensim\n",
    "import numpy as np"
   ]
  },
  {
   "cell_type": "code",
   "execution_count": 2,
   "metadata": {},
   "outputs": [],
   "source": [
    "def GetData():\n",
    "    df_list = []\n",
    "    for name in ('Fake.csv','True.csv'):\n",
    "        file = pd.read_csv(f'Data/{name}')\n",
    "        file['label'] = name[0:4]\n",
    "        df_list.append(file)\n",
    "    \n",
    "    file = pd.concat(df_list)\n",
    "    \n",
    "    return file\n",
    "\n",
    "data = GetData()"
   ]
  },
  {
   "cell_type": "code",
   "execution_count": 3,
   "metadata": {},
   "outputs": [
    {
     "data": {
      "text/html": [
       "<div>\n",
       "<style scoped>\n",
       "    .dataframe tbody tr th:only-of-type {\n",
       "        vertical-align: middle;\n",
       "    }\n",
       "\n",
       "    .dataframe tbody tr th {\n",
       "        vertical-align: top;\n",
       "    }\n",
       "\n",
       "    .dataframe thead th {\n",
       "        text-align: right;\n",
       "    }\n",
       "</style>\n",
       "<table border=\"1\" class=\"dataframe\">\n",
       "  <thead>\n",
       "    <tr style=\"text-align: right;\">\n",
       "      <th></th>\n",
       "      <th>title</th>\n",
       "      <th>text</th>\n",
       "      <th>subject</th>\n",
       "      <th>date</th>\n",
       "      <th>label</th>\n",
       "    </tr>\n",
       "  </thead>\n",
       "  <tbody>\n",
       "    <tr>\n",
       "      <th>0</th>\n",
       "      <td>Donald Trump Sends Out Embarrassing New Year’...</td>\n",
       "      <td>Donald Trump just couldn t wish all Americans ...</td>\n",
       "      <td>News</td>\n",
       "      <td>December 31, 2017</td>\n",
       "      <td>Fake</td>\n",
       "    </tr>\n",
       "    <tr>\n",
       "      <th>1</th>\n",
       "      <td>Drunk Bragging Trump Staffer Started Russian ...</td>\n",
       "      <td>House Intelligence Committee Chairman Devin Nu...</td>\n",
       "      <td>News</td>\n",
       "      <td>December 31, 2017</td>\n",
       "      <td>Fake</td>\n",
       "    </tr>\n",
       "    <tr>\n",
       "      <th>2</th>\n",
       "      <td>Sheriff David Clarke Becomes An Internet Joke...</td>\n",
       "      <td>On Friday, it was revealed that former Milwauk...</td>\n",
       "      <td>News</td>\n",
       "      <td>December 30, 2017</td>\n",
       "      <td>Fake</td>\n",
       "    </tr>\n",
       "    <tr>\n",
       "      <th>3</th>\n",
       "      <td>Trump Is So Obsessed He Even Has Obama’s Name...</td>\n",
       "      <td>On Christmas day, Donald Trump announced that ...</td>\n",
       "      <td>News</td>\n",
       "      <td>December 29, 2017</td>\n",
       "      <td>Fake</td>\n",
       "    </tr>\n",
       "    <tr>\n",
       "      <th>4</th>\n",
       "      <td>Pope Francis Just Called Out Donald Trump Dur...</td>\n",
       "      <td>Pope Francis used his annual Christmas Day mes...</td>\n",
       "      <td>News</td>\n",
       "      <td>December 25, 2017</td>\n",
       "      <td>Fake</td>\n",
       "    </tr>\n",
       "    <tr>\n",
       "      <th>5</th>\n",
       "      <td>Racist Alabama Cops Brutalize Black Boy While...</td>\n",
       "      <td>The number of cases of cops brutalizing and ki...</td>\n",
       "      <td>News</td>\n",
       "      <td>December 25, 2017</td>\n",
       "      <td>Fake</td>\n",
       "    </tr>\n",
       "    <tr>\n",
       "      <th>6</th>\n",
       "      <td>Fresh Off The Golf Course, Trump Lashes Out A...</td>\n",
       "      <td>Donald Trump spent a good portion of his day a...</td>\n",
       "      <td>News</td>\n",
       "      <td>December 23, 2017</td>\n",
       "      <td>Fake</td>\n",
       "    </tr>\n",
       "    <tr>\n",
       "      <th>7</th>\n",
       "      <td>Trump Said Some INSANELY Racist Stuff Inside ...</td>\n",
       "      <td>In the wake of yet another court decision that...</td>\n",
       "      <td>News</td>\n",
       "      <td>December 23, 2017</td>\n",
       "      <td>Fake</td>\n",
       "    </tr>\n",
       "    <tr>\n",
       "      <th>8</th>\n",
       "      <td>Former CIA Director Slams Trump Over UN Bully...</td>\n",
       "      <td>Many people have raised the alarm regarding th...</td>\n",
       "      <td>News</td>\n",
       "      <td>December 22, 2017</td>\n",
       "      <td>Fake</td>\n",
       "    </tr>\n",
       "    <tr>\n",
       "      <th>9</th>\n",
       "      <td>WATCH: Brand-New Pro-Trump Ad Features So Muc...</td>\n",
       "      <td>Just when you might have thought we d get a br...</td>\n",
       "      <td>News</td>\n",
       "      <td>December 21, 2017</td>\n",
       "      <td>Fake</td>\n",
       "    </tr>\n",
       "  </tbody>\n",
       "</table>\n",
       "</div>"
      ],
      "text/plain": [
       "                                               title  \\\n",
       "0   Donald Trump Sends Out Embarrassing New Year’...   \n",
       "1   Drunk Bragging Trump Staffer Started Russian ...   \n",
       "2   Sheriff David Clarke Becomes An Internet Joke...   \n",
       "3   Trump Is So Obsessed He Even Has Obama’s Name...   \n",
       "4   Pope Francis Just Called Out Donald Trump Dur...   \n",
       "5   Racist Alabama Cops Brutalize Black Boy While...   \n",
       "6   Fresh Off The Golf Course, Trump Lashes Out A...   \n",
       "7   Trump Said Some INSANELY Racist Stuff Inside ...   \n",
       "8   Former CIA Director Slams Trump Over UN Bully...   \n",
       "9   WATCH: Brand-New Pro-Trump Ad Features So Muc...   \n",
       "\n",
       "                                                text subject  \\\n",
       "0  Donald Trump just couldn t wish all Americans ...    News   \n",
       "1  House Intelligence Committee Chairman Devin Nu...    News   \n",
       "2  On Friday, it was revealed that former Milwauk...    News   \n",
       "3  On Christmas day, Donald Trump announced that ...    News   \n",
       "4  Pope Francis used his annual Christmas Day mes...    News   \n",
       "5  The number of cases of cops brutalizing and ki...    News   \n",
       "6  Donald Trump spent a good portion of his day a...    News   \n",
       "7  In the wake of yet another court decision that...    News   \n",
       "8  Many people have raised the alarm regarding th...    News   \n",
       "9  Just when you might have thought we d get a br...    News   \n",
       "\n",
       "                date label  \n",
       "0  December 31, 2017  Fake  \n",
       "1  December 31, 2017  Fake  \n",
       "2  December 30, 2017  Fake  \n",
       "3  December 29, 2017  Fake  \n",
       "4  December 25, 2017  Fake  \n",
       "5  December 25, 2017  Fake  \n",
       "6  December 23, 2017  Fake  \n",
       "7  December 23, 2017  Fake  \n",
       "8  December 22, 2017  Fake  \n",
       "9  December 21, 2017  Fake  "
      ]
     },
     "execution_count": 3,
     "metadata": {},
     "output_type": "execute_result"
    }
   ],
   "source": [
    "data.head(10)"
   ]
  },
  {
   "cell_type": "markdown",
   "metadata": {},
   "source": [
    "The data consists of a title which is a heading of an article or piece of text, text which is the actual text body, subject manner, the date posted, and finally a label column which will be using as the target column for our prediction. We can check for any nulls in our data first before we try to extract additional information."
   ]
  },
  {
   "cell_type": "code",
   "execution_count": 4,
   "metadata": {},
   "outputs": [
    {
     "data": {
      "text/plain": [
       "title      0\n",
       "text       0\n",
       "subject    0\n",
       "date       0\n",
       "label      0\n",
       "dtype: int64"
      ]
     },
     "execution_count": 4,
     "metadata": {},
     "output_type": "execute_result"
    }
   ],
   "source": [
    "data.isnull().sum()"
   ]
  },
  {
   "cell_type": "markdown",
   "metadata": {},
   "source": [
    "We have no nulls in our data, this is good, but what about texts that might have empty strings as '' or ' ' "
   ]
  },
  {
   "cell_type": "code",
   "execution_count": 5,
   "metadata": {},
   "outputs": [
    {
     "data": {
      "text/html": [
       "<div>\n",
       "<style scoped>\n",
       "    .dataframe tbody tr th:only-of-type {\n",
       "        vertical-align: middle;\n",
       "    }\n",
       "\n",
       "    .dataframe tbody tr th {\n",
       "        vertical-align: top;\n",
       "    }\n",
       "\n",
       "    .dataframe thead th {\n",
       "        text-align: right;\n",
       "    }\n",
       "</style>\n",
       "<table border=\"1\" class=\"dataframe\">\n",
       "  <thead>\n",
       "    <tr style=\"text-align: right;\">\n",
       "      <th></th>\n",
       "      <th>title</th>\n",
       "      <th>text</th>\n",
       "      <th>subject</th>\n",
       "      <th>date</th>\n",
       "      <th>label</th>\n",
       "    </tr>\n",
       "  </thead>\n",
       "  <tbody>\n",
       "    <tr>\n",
       "      <th>10923</th>\n",
       "      <td>TAKE OUR POLL: Who Do You Think President Trum...</td>\n",
       "      <td></td>\n",
       "      <td>politics</td>\n",
       "      <td>May 10, 2017</td>\n",
       "      <td>Fake</td>\n",
       "    </tr>\n",
       "    <tr>\n",
       "      <th>11041</th>\n",
       "      <td>Joe Scarborough BERATES Mika Brzezinski Over “...</td>\n",
       "      <td></td>\n",
       "      <td>politics</td>\n",
       "      <td>Apr 26, 2017</td>\n",
       "      <td>Fake</td>\n",
       "    </tr>\n",
       "    <tr>\n",
       "      <th>11190</th>\n",
       "      <td>WATCH TUCKER CARLSON Scorch Sanctuary City May...</td>\n",
       "      <td></td>\n",
       "      <td>politics</td>\n",
       "      <td>Apr 6, 2017</td>\n",
       "      <td>Fake</td>\n",
       "    </tr>\n",
       "    <tr>\n",
       "      <th>11225</th>\n",
       "      <td>MAYOR OF SANCTUARY CITY: Trump Trying To Make ...</td>\n",
       "      <td></td>\n",
       "      <td>politics</td>\n",
       "      <td>Apr 2, 2017</td>\n",
       "      <td>Fake</td>\n",
       "    </tr>\n",
       "    <tr>\n",
       "      <th>11236</th>\n",
       "      <td>SHOCKER: Public School Turns Computer Lab Into...</td>\n",
       "      <td></td>\n",
       "      <td>politics</td>\n",
       "      <td>Apr 1, 2017</td>\n",
       "      <td>Fake</td>\n",
       "    </tr>\n",
       "    <tr>\n",
       "      <th>...</th>\n",
       "      <td>...</td>\n",
       "      <td>...</td>\n",
       "      <td>...</td>\n",
       "      <td>...</td>\n",
       "      <td>...</td>\n",
       "    </tr>\n",
       "    <tr>\n",
       "      <th>21826</th>\n",
       "      <td>FULL VIDEO: THE BLOCKBUSTER INVESTIGATION INTO...</td>\n",
       "      <td></td>\n",
       "      <td>left-news</td>\n",
       "      <td>Apr 25, 2015</td>\n",
       "      <td>Fake</td>\n",
       "    </tr>\n",
       "    <tr>\n",
       "      <th>21827</th>\n",
       "      <td>(VIDEO) HILLARY CLINTON: RELIGIOUS BELIEFS MUS...</td>\n",
       "      <td></td>\n",
       "      <td>left-news</td>\n",
       "      <td>Apr 25, 2015</td>\n",
       "      <td>Fake</td>\n",
       "    </tr>\n",
       "    <tr>\n",
       "      <th>21857</th>\n",
       "      <td>(VIDEO)ICE PROTECTING OBAMA: WON’T RELEASE NAM...</td>\n",
       "      <td></td>\n",
       "      <td>left-news</td>\n",
       "      <td>Apr 14, 2015</td>\n",
       "      <td>Fake</td>\n",
       "    </tr>\n",
       "    <tr>\n",
       "      <th>21873</th>\n",
       "      <td>(VIDEO) HYSTERICAL SNL TAKE ON HILLARY’S ANNOU...</td>\n",
       "      <td></td>\n",
       "      <td>left-news</td>\n",
       "      <td>Apr 12, 2015</td>\n",
       "      <td>Fake</td>\n",
       "    </tr>\n",
       "    <tr>\n",
       "      <th>8970</th>\n",
       "      <td>Graphic: Supreme Court roundup</td>\n",
       "      <td></td>\n",
       "      <td>politicsNews</td>\n",
       "      <td>June 16, 2016</td>\n",
       "      <td>True</td>\n",
       "    </tr>\n",
       "  </tbody>\n",
       "</table>\n",
       "<p>627 rows × 5 columns</p>\n",
       "</div>"
      ],
      "text/plain": [
       "                                                   title text       subject  \\\n",
       "10923  TAKE OUR POLL: Who Do You Think President Trum...           politics   \n",
       "11041  Joe Scarborough BERATES Mika Brzezinski Over “...           politics   \n",
       "11190  WATCH TUCKER CARLSON Scorch Sanctuary City May...           politics   \n",
       "11225  MAYOR OF SANCTUARY CITY: Trump Trying To Make ...           politics   \n",
       "11236  SHOCKER: Public School Turns Computer Lab Into...           politics   \n",
       "...                                                  ...  ...           ...   \n",
       "21826  FULL VIDEO: THE BLOCKBUSTER INVESTIGATION INTO...          left-news   \n",
       "21827  (VIDEO) HILLARY CLINTON: RELIGIOUS BELIEFS MUS...          left-news   \n",
       "21857  (VIDEO)ICE PROTECTING OBAMA: WON’T RELEASE NAM...          left-news   \n",
       "21873  (VIDEO) HYSTERICAL SNL TAKE ON HILLARY’S ANNOU...          left-news   \n",
       "8970                      Graphic: Supreme Court roundup       politicsNews   \n",
       "\n",
       "                 date label  \n",
       "10923    May 10, 2017  Fake  \n",
       "11041    Apr 26, 2017  Fake  \n",
       "11190     Apr 6, 2017  Fake  \n",
       "11225     Apr 2, 2017  Fake  \n",
       "11236     Apr 1, 2017  Fake  \n",
       "...               ...   ...  \n",
       "21826    Apr 25, 2015  Fake  \n",
       "21827    Apr 25, 2015  Fake  \n",
       "21857    Apr 14, 2015  Fake  \n",
       "21873    Apr 12, 2015  Fake  \n",
       "8970   June 16, 2016   True  \n",
       "\n",
       "[627 rows x 5 columns]"
      ]
     },
     "execution_count": 5,
     "metadata": {},
     "output_type": "execute_result"
    }
   ],
   "source": [
    "data[data['text'].isin(['', ' '])]"
   ]
  },
  {
   "cell_type": "markdown",
   "metadata": {},
   "source": [
    "There are 627 rows in our data with an empty text, rather than removing these rows we can simply concatenate title and text into new text column. The benefit of this is we'll retain some data and increase the number of words within our data without changing the context too much."
   ]
  },
  {
   "cell_type": "code",
   "execution_count": 6,
   "metadata": {},
   "outputs": [],
   "source": [
    "data['final_text'] = data['title'] + \" \" + data['text']"
   ]
  },
  {
   "cell_type": "markdown",
   "metadata": {},
   "source": [
    "To help explore our data we will extract the following information:\n",
    "    * Number of words\n",
    "    * Number of unique words\n",
    "    * Average word length\n",
    "    * Number of uppercase / lowercase words\n",
    "    * Number of punctuations used"
   ]
  },
  {
   "cell_type": "code",
   "execution_count": 7,
   "metadata": {},
   "outputs": [],
   "source": [
    "# Calculate simply the number of words in a string\n",
    "def NumberOfWords(string):\n",
    "    if len(string) == 0:\n",
    "        return 0\n",
    "    \n",
    "    return string.count(' ') + 1\n",
    "\n",
    "# Calculate total number of unique words\n",
    "def NumberOfUniqueWords(string):\n",
    "    d = {}\n",
    "    for i in string.lower().split(' '):\n",
    "        if i not in d:\n",
    "            d[i] = 1\n",
    "    return len(d)\n",
    "\n",
    "# Calculate the average word length of a given string\n",
    "def AvgWordLength(string):\n",
    "    if len(string) == 0:\n",
    "        return 0\n",
    "    \n",
    "    total_length = NumberOfWords(string)\n",
    "    number_of_letters = len(string) - total_length + 1\n",
    "    \n",
    "    return number_of_letters/total_length\n",
    "\n",
    "# Calcualte number of uppercase words in a string\n",
    "# Note we dont have a function for lowercase words as we can just do total number of words - uppercase words\n",
    "def NumberOfUpperCaseWords(string):\n",
    "    words = string.split()   \n",
    "    return len([word for word in words if word.isupper()])\n",
    "\n",
    "# Calculate total number of punctuation characters used\n",
    "punctuation_set = set(punctuation)\n",
    "def NumberOfPunctuations(string):\n",
    "    return sum([1 for s in string if s in punctuation_set])"
   ]
  },
  {
   "cell_type": "markdown",
   "metadata": {},
   "source": [
    "Before we apply some of these to the final_text column we will first remove urls, stopwords, and punctuations from final_text.\n",
    "\n",
    "Stopwords are every day words that do not provide any additional meaning or context. Removing these words will leave us with a partition of text that still retains the meaning of a given sentence."
   ]
  },
  {
   "cell_type": "code",
   "execution_count": 8,
   "metadata": {},
   "outputs": [],
   "source": [
    "# Remove urls from text    \n",
    "def RemoveURLS(string):\n",
    "    return re.sub('https\\S+','', string)\n",
    "\n",
    "# Removing stopwords, these are words which add little to no information to a sentence. They can be removed and not affect the meaning of a given sentence.\n",
    "# Examples of stopwords are the, is, has, etc. We can also go one step further and remove punctuations too.\n",
    "stop_words = set(nltk.corpus.stopwords.words('english'))\n",
    "stop_words.update(punctuation_set)\n",
    "# This tokenizer allows us to only extract words from a given string and ignore any punctuation used\n",
    "tokenizer_for_words = nltk.tokenize.RegexpTokenizer(r'\\w+')\n",
    "def RemoveStopWordsAndPunctuation(string):\n",
    "    output = []\n",
    "    words = tokenizer_for_words.tokenize(string)\n",
    "    for word in words:\n",
    "        if word.strip().lower() not in stop_words and len(word) > 1:\n",
    "            output.append(word)\n",
    "    \n",
    "    return ' '.join(output)"
   ]
  },
  {
   "cell_type": "markdown",
   "metadata": {},
   "source": [
    "Before we remove punctuation we can compute the number of punctuations used in the text"
   ]
  },
  {
   "cell_type": "code",
   "execution_count": 9,
   "metadata": {},
   "outputs": [],
   "source": [
    "data['number_of_punctuations'] = data['final_text'].apply(NumberOfPunctuations)"
   ]
  },
  {
   "cell_type": "code",
   "execution_count": 10,
   "metadata": {},
   "outputs": [],
   "source": [
    "# Remove stop words and punctuation before other functions\n",
    "data['final_text'] = data['final_text'].apply(RemoveURLS)\n",
    "data['final_text'] = data['final_text'].apply(RemoveStopWordsAndPunctuation)"
   ]
  },
  {
   "cell_type": "code",
   "execution_count": 11,
   "metadata": {},
   "outputs": [],
   "source": [
    "# Gather additional data from text\n",
    "data['number_of_words'] = data['final_text'].apply(NumberOfWords)\n",
    "data['number_of_unique_words'] = data['final_text'].apply(NumberOfUniqueWords)\n",
    "data['avg_number_of_words'] = data['final_text'].apply(AvgWordLength)\n",
    "data['number_of_uppercase_words'] = data['final_text'].apply(NumberOfUpperCaseWords)\n",
    "data['number_of_lowercase_words'] = data['number_of_words'] - data['number_of_uppercase_words']\n",
    "\n",
    "# Make final_text all lower case\n",
    "data['final_text'] = data['final_text'].str.lower()"
   ]
  },
  {
   "cell_type": "code",
   "execution_count": 12,
   "metadata": {},
   "outputs": [
    {
     "data": {
      "text/html": [
       "<div>\n",
       "<style scoped>\n",
       "    .dataframe tbody tr th:only-of-type {\n",
       "        vertical-align: middle;\n",
       "    }\n",
       "\n",
       "    .dataframe tbody tr th {\n",
       "        vertical-align: top;\n",
       "    }\n",
       "\n",
       "    .dataframe thead th {\n",
       "        text-align: right;\n",
       "    }\n",
       "</style>\n",
       "<table border=\"1\" class=\"dataframe\">\n",
       "  <thead>\n",
       "    <tr style=\"text-align: right;\">\n",
       "      <th></th>\n",
       "      <th>title</th>\n",
       "      <th>text</th>\n",
       "      <th>subject</th>\n",
       "      <th>date</th>\n",
       "      <th>label</th>\n",
       "      <th>final_text</th>\n",
       "      <th>number_of_punctuations</th>\n",
       "      <th>number_of_words</th>\n",
       "      <th>number_of_unique_words</th>\n",
       "      <th>avg_number_of_words</th>\n",
       "      <th>number_of_uppercase_words</th>\n",
       "      <th>number_of_lowercase_words</th>\n",
       "    </tr>\n",
       "  </thead>\n",
       "  <tbody>\n",
       "    <tr>\n",
       "      <th>0</th>\n",
       "      <td>Donald Trump Sends Out Embarrassing New Year’...</td>\n",
       "      <td>Donald Trump just couldn t wish all Americans ...</td>\n",
       "      <td>News</td>\n",
       "      <td>December 31, 2017</td>\n",
       "      <td>Fake</td>\n",
       "      <td>donald trump sends embarrassing new year eve m...</td>\n",
       "      <td>122</td>\n",
       "      <td>302</td>\n",
       "      <td>178</td>\n",
       "      <td>5.798013</td>\n",
       "      <td>0</td>\n",
       "      <td>302</td>\n",
       "    </tr>\n",
       "    <tr>\n",
       "      <th>1</th>\n",
       "      <td>Drunk Bragging Trump Staffer Started Russian ...</td>\n",
       "      <td>House Intelligence Committee Chairman Devin Nu...</td>\n",
       "      <td>News</td>\n",
       "      <td>December 31, 2017</td>\n",
       "      <td>Fake</td>\n",
       "      <td>drunk bragging trump staffer started russian c...</td>\n",
       "      <td>39</td>\n",
       "      <td>191</td>\n",
       "      <td>145</td>\n",
       "      <td>6.575916</td>\n",
       "      <td>2</td>\n",
       "      <td>189</td>\n",
       "    </tr>\n",
       "    <tr>\n",
       "      <th>2</th>\n",
       "      <td>Sheriff David Clarke Becomes An Internet Joke...</td>\n",
       "      <td>On Friday, it was revealed that former Milwauk...</td>\n",
       "      <td>News</td>\n",
       "      <td>December 30, 2017</td>\n",
       "      <td>Fake</td>\n",
       "      <td>sheriff david clarke becomes internet joke thr...</td>\n",
       "      <td>148</td>\n",
       "      <td>369</td>\n",
       "      <td>237</td>\n",
       "      <td>5.997290</td>\n",
       "      <td>28</td>\n",
       "      <td>341</td>\n",
       "    </tr>\n",
       "    <tr>\n",
       "      <th>3</th>\n",
       "      <td>Trump Is So Obsessed He Even Has Obama’s Name...</td>\n",
       "      <td>On Christmas day, Donald Trump announced that ...</td>\n",
       "      <td>News</td>\n",
       "      <td>December 29, 2017</td>\n",
       "      <td>Fake</td>\n",
       "      <td>trump obsessed even obama name coded website i...</td>\n",
       "      <td>120</td>\n",
       "      <td>285</td>\n",
       "      <td>187</td>\n",
       "      <td>5.887719</td>\n",
       "      <td>6</td>\n",
       "      <td>279</td>\n",
       "    </tr>\n",
       "    <tr>\n",
       "      <th>4</th>\n",
       "      <td>Pope Francis Just Called Out Donald Trump Dur...</td>\n",
       "      <td>Pope Francis used his annual Christmas Day mes...</td>\n",
       "      <td>News</td>\n",
       "      <td>December 25, 2017</td>\n",
       "      <td>Fake</td>\n",
       "      <td>pope francis called donald trump christmas spe...</td>\n",
       "      <td>40</td>\n",
       "      <td>219</td>\n",
       "      <td>164</td>\n",
       "      <td>5.922374</td>\n",
       "      <td>0</td>\n",
       "      <td>219</td>\n",
       "    </tr>\n",
       "  </tbody>\n",
       "</table>\n",
       "</div>"
      ],
      "text/plain": [
       "                                               title  \\\n",
       "0   Donald Trump Sends Out Embarrassing New Year’...   \n",
       "1   Drunk Bragging Trump Staffer Started Russian ...   \n",
       "2   Sheriff David Clarke Becomes An Internet Joke...   \n",
       "3   Trump Is So Obsessed He Even Has Obama’s Name...   \n",
       "4   Pope Francis Just Called Out Donald Trump Dur...   \n",
       "\n",
       "                                                text subject  \\\n",
       "0  Donald Trump just couldn t wish all Americans ...    News   \n",
       "1  House Intelligence Committee Chairman Devin Nu...    News   \n",
       "2  On Friday, it was revealed that former Milwauk...    News   \n",
       "3  On Christmas day, Donald Trump announced that ...    News   \n",
       "4  Pope Francis used his annual Christmas Day mes...    News   \n",
       "\n",
       "                date label                                         final_text  \\\n",
       "0  December 31, 2017  Fake  donald trump sends embarrassing new year eve m...   \n",
       "1  December 31, 2017  Fake  drunk bragging trump staffer started russian c...   \n",
       "2  December 30, 2017  Fake  sheriff david clarke becomes internet joke thr...   \n",
       "3  December 29, 2017  Fake  trump obsessed even obama name coded website i...   \n",
       "4  December 25, 2017  Fake  pope francis called donald trump christmas spe...   \n",
       "\n",
       "   number_of_punctuations  number_of_words  number_of_unique_words  \\\n",
       "0                     122              302                     178   \n",
       "1                      39              191                     145   \n",
       "2                     148              369                     237   \n",
       "3                     120              285                     187   \n",
       "4                      40              219                     164   \n",
       "\n",
       "   avg_number_of_words  number_of_uppercase_words  number_of_lowercase_words  \n",
       "0             5.798013                          0                        302  \n",
       "1             6.575916                          2                        189  \n",
       "2             5.997290                         28                        341  \n",
       "3             5.887719                          6                        279  \n",
       "4             5.922374                          0                        219  "
      ]
     },
     "execution_count": 12,
     "metadata": {},
     "output_type": "execute_result"
    }
   ],
   "source": [
    "data.head(5)"
   ]
  },
  {
   "cell_type": "code",
   "execution_count": 13,
   "metadata": {},
   "outputs": [
    {
     "data": {
      "text/html": [
       "<div>\n",
       "<style scoped>\n",
       "    .dataframe tbody tr th:only-of-type {\n",
       "        vertical-align: middle;\n",
       "    }\n",
       "\n",
       "    .dataframe tbody tr th {\n",
       "        vertical-align: top;\n",
       "    }\n",
       "\n",
       "    .dataframe thead th {\n",
       "        text-align: right;\n",
       "    }\n",
       "</style>\n",
       "<table border=\"1\" class=\"dataframe\">\n",
       "  <thead>\n",
       "    <tr style=\"text-align: right;\">\n",
       "      <th></th>\n",
       "      <th>number_of_punctuations</th>\n",
       "      <th>number_of_words</th>\n",
       "      <th>number_of_unique_words</th>\n",
       "      <th>avg_number_of_words</th>\n",
       "      <th>number_of_uppercase_words</th>\n",
       "      <th>number_of_lowercase_words</th>\n",
       "    </tr>\n",
       "  </thead>\n",
       "  <tbody>\n",
       "    <tr>\n",
       "      <th>count</th>\n",
       "      <td>44898.0</td>\n",
       "      <td>44898.0</td>\n",
       "      <td>44898.0</td>\n",
       "      <td>44898.0</td>\n",
       "      <td>44898.0</td>\n",
       "      <td>44898.0</td>\n",
       "    </tr>\n",
       "    <tr>\n",
       "      <th>mean</th>\n",
       "      <td>56.8</td>\n",
       "      <td>245.6</td>\n",
       "      <td>168.1</td>\n",
       "      <td>6.3</td>\n",
       "      <td>6.1</td>\n",
       "      <td>239.5</td>\n",
       "    </tr>\n",
       "    <tr>\n",
       "      <th>std</th>\n",
       "      <td>64.5</td>\n",
       "      <td>207.2</td>\n",
       "      <td>118.7</td>\n",
       "      <td>0.4</td>\n",
       "      <td>8.5</td>\n",
       "      <td>202.8</td>\n",
       "    </tr>\n",
       "    <tr>\n",
       "      <th>min</th>\n",
       "      <td>0.0</td>\n",
       "      <td>0.0</td>\n",
       "      <td>1.0</td>\n",
       "      <td>0.0</td>\n",
       "      <td>0.0</td>\n",
       "      <td>0.0</td>\n",
       "    </tr>\n",
       "    <tr>\n",
       "      <th>25%</th>\n",
       "      <td>28.0</td>\n",
       "      <td>130.0</td>\n",
       "      <td>96.0</td>\n",
       "      <td>6.1</td>\n",
       "      <td>2.0</td>\n",
       "      <td>124.0</td>\n",
       "    </tr>\n",
       "    <tr>\n",
       "      <th>50%</th>\n",
       "      <td>47.0</td>\n",
       "      <td>218.0</td>\n",
       "      <td>156.0</td>\n",
       "      <td>6.3</td>\n",
       "      <td>4.0</td>\n",
       "      <td>213.0</td>\n",
       "    </tr>\n",
       "    <tr>\n",
       "      <th>75%</th>\n",
       "      <td>71.0</td>\n",
       "      <td>306.0</td>\n",
       "      <td>212.0</td>\n",
       "      <td>6.6</td>\n",
       "      <td>7.0</td>\n",
       "      <td>300.0</td>\n",
       "    </tr>\n",
       "    <tr>\n",
       "      <th>max</th>\n",
       "      <td>7295.0</td>\n",
       "      <td>5066.0</td>\n",
       "      <td>2335.0</td>\n",
       "      <td>18.7</td>\n",
       "      <td>313.0</td>\n",
       "      <td>4944.0</td>\n",
       "    </tr>\n",
       "  </tbody>\n",
       "</table>\n",
       "</div>"
      ],
      "text/plain": [
       "       number_of_punctuations  number_of_words  number_of_unique_words  \\\n",
       "count                 44898.0          44898.0                 44898.0   \n",
       "mean                     56.8            245.6                   168.1   \n",
       "std                      64.5            207.2                   118.7   \n",
       "min                       0.0              0.0                     1.0   \n",
       "25%                      28.0            130.0                    96.0   \n",
       "50%                      47.0            218.0                   156.0   \n",
       "75%                      71.0            306.0                   212.0   \n",
       "max                    7295.0           5066.0                  2335.0   \n",
       "\n",
       "       avg_number_of_words  number_of_uppercase_words  \\\n",
       "count              44898.0                    44898.0   \n",
       "mean                   6.3                        6.1   \n",
       "std                    0.4                        8.5   \n",
       "min                    0.0                        0.0   \n",
       "25%                    6.1                        2.0   \n",
       "50%                    6.3                        4.0   \n",
       "75%                    6.6                        7.0   \n",
       "max                   18.7                      313.0   \n",
       "\n",
       "       number_of_lowercase_words  \n",
       "count                    44898.0  \n",
       "mean                       239.5  \n",
       "std                        202.8  \n",
       "min                          0.0  \n",
       "25%                        124.0  \n",
       "50%                        213.0  \n",
       "75%                        300.0  \n",
       "max                       4944.0  "
      ]
     },
     "execution_count": 13,
     "metadata": {},
     "output_type": "execute_result"
    }
   ],
   "source": [
    "data_desc = data.describe().round(1)\n",
    "data_desc"
   ]
  },
  {
   "cell_type": "markdown",
   "metadata": {},
   "source": [
    "The first thing to notice is that there exists one or more datapoints that have 0 words. This is likely to be a text with only a url or punctuation. We can look for this and ultimately remove it."
   ]
  },
  {
   "cell_type": "code",
   "execution_count": 14,
   "metadata": {},
   "outputs": [
    {
     "data": {
      "text/html": [
       "<div>\n",
       "<style scoped>\n",
       "    .dataframe tbody tr th:only-of-type {\n",
       "        vertical-align: middle;\n",
       "    }\n",
       "\n",
       "    .dataframe tbody tr th {\n",
       "        vertical-align: top;\n",
       "    }\n",
       "\n",
       "    .dataframe thead th {\n",
       "        text-align: right;\n",
       "    }\n",
       "</style>\n",
       "<table border=\"1\" class=\"dataframe\">\n",
       "  <thead>\n",
       "    <tr style=\"text-align: right;\">\n",
       "      <th></th>\n",
       "      <th>title</th>\n",
       "      <th>text</th>\n",
       "      <th>subject</th>\n",
       "      <th>date</th>\n",
       "      <th>label</th>\n",
       "      <th>final_text</th>\n",
       "      <th>number_of_punctuations</th>\n",
       "      <th>number_of_words</th>\n",
       "      <th>number_of_unique_words</th>\n",
       "      <th>avg_number_of_words</th>\n",
       "      <th>number_of_uppercase_words</th>\n",
       "      <th>number_of_lowercase_words</th>\n",
       "    </tr>\n",
       "  </thead>\n",
       "  <tbody>\n",
       "    <tr>\n",
       "      <th>9358</th>\n",
       "      <td>https://100percentfedup.com/served-roy-moore-v...</td>\n",
       "      <td>https://100percentfedup.com/served-roy-moore-v...</td>\n",
       "      <td>politics</td>\n",
       "      <td>https://100percentfedup.com/served-roy-moore-v...</td>\n",
       "      <td>Fake</td>\n",
       "      <td></td>\n",
       "      <td>38</td>\n",
       "      <td>0</td>\n",
       "      <td>1</td>\n",
       "      <td>0.0</td>\n",
       "      <td>0</td>\n",
       "      <td>0</td>\n",
       "    </tr>\n",
       "    <tr>\n",
       "      <th>15507</th>\n",
       "      <td>https://100percentfedup.com/video-hillary-aske...</td>\n",
       "      <td>https://100percentfedup.com/video-hillary-aske...</td>\n",
       "      <td>politics</td>\n",
       "      <td>https://100percentfedup.com/video-hillary-aske...</td>\n",
       "      <td>Fake</td>\n",
       "      <td></td>\n",
       "      <td>34</td>\n",
       "      <td>0</td>\n",
       "      <td>1</td>\n",
       "      <td>0.0</td>\n",
       "      <td>0</td>\n",
       "      <td>0</td>\n",
       "    </tr>\n",
       "    <tr>\n",
       "      <th>15508</th>\n",
       "      <td>https://100percentfedup.com/12-yr-old-black-co...</td>\n",
       "      <td>https://100percentfedup.com/12-yr-old-black-co...</td>\n",
       "      <td>politics</td>\n",
       "      <td>https://100percentfedup.com/12-yr-old-black-co...</td>\n",
       "      <td>Fake</td>\n",
       "      <td></td>\n",
       "      <td>52</td>\n",
       "      <td>0</td>\n",
       "      <td>1</td>\n",
       "      <td>0.0</td>\n",
       "      <td>0</td>\n",
       "      <td>0</td>\n",
       "    </tr>\n",
       "    <tr>\n",
       "      <th>15839</th>\n",
       "      <td>https://fedup.wpengine.com/wp-content/uploads/...</td>\n",
       "      <td>https://fedup.wpengine.com/wp-content/uploads/...</td>\n",
       "      <td>politics</td>\n",
       "      <td>https://fedup.wpengine.com/wp-content/uploads/...</td>\n",
       "      <td>Fake</td>\n",
       "      <td></td>\n",
       "      <td>24</td>\n",
       "      <td>0</td>\n",
       "      <td>1</td>\n",
       "      <td>0.0</td>\n",
       "      <td>0</td>\n",
       "      <td>0</td>\n",
       "    </tr>\n",
       "    <tr>\n",
       "      <th>15840</th>\n",
       "      <td>https://fedup.wpengine.com/wp-content/uploads/...</td>\n",
       "      <td>https://fedup.wpengine.com/wp-content/uploads/...</td>\n",
       "      <td>politics</td>\n",
       "      <td>https://fedup.wpengine.com/wp-content/uploads/...</td>\n",
       "      <td>Fake</td>\n",
       "      <td></td>\n",
       "      <td>24</td>\n",
       "      <td>0</td>\n",
       "      <td>1</td>\n",
       "      <td>0.0</td>\n",
       "      <td>0</td>\n",
       "      <td>0</td>\n",
       "    </tr>\n",
       "    <tr>\n",
       "      <th>17432</th>\n",
       "      <td>https://fedup.wpengine.com/wp-content/uploads/...</td>\n",
       "      <td>https://fedup.wpengine.com/wp-content/uploads/...</td>\n",
       "      <td>Government News</td>\n",
       "      <td>https://fedup.wpengine.com/wp-content/uploads/...</td>\n",
       "      <td>Fake</td>\n",
       "      <td></td>\n",
       "      <td>24</td>\n",
       "      <td>0</td>\n",
       "      <td>1</td>\n",
       "      <td>0.0</td>\n",
       "      <td>0</td>\n",
       "      <td>0</td>\n",
       "    </tr>\n",
       "    <tr>\n",
       "      <th>17433</th>\n",
       "      <td>https://fedup.wpengine.com/wp-content/uploads/...</td>\n",
       "      <td>https://fedup.wpengine.com/wp-content/uploads/...</td>\n",
       "      <td>Government News</td>\n",
       "      <td>https://fedup.wpengine.com/wp-content/uploads/...</td>\n",
       "      <td>Fake</td>\n",
       "      <td></td>\n",
       "      <td>24</td>\n",
       "      <td>0</td>\n",
       "      <td>1</td>\n",
       "      <td>0.0</td>\n",
       "      <td>0</td>\n",
       "      <td>0</td>\n",
       "    </tr>\n",
       "    <tr>\n",
       "      <th>21869</th>\n",
       "      <td>https://fedup.wpengine.com/wp-content/uploads/...</td>\n",
       "      <td>https://fedup.wpengine.com/wp-content/uploads/...</td>\n",
       "      <td>left-news</td>\n",
       "      <td>https://fedup.wpengine.com/wp-content/uploads/...</td>\n",
       "      <td>Fake</td>\n",
       "      <td></td>\n",
       "      <td>24</td>\n",
       "      <td>0</td>\n",
       "      <td>1</td>\n",
       "      <td>0.0</td>\n",
       "      <td>0</td>\n",
       "      <td>0</td>\n",
       "    </tr>\n",
       "    <tr>\n",
       "      <th>21870</th>\n",
       "      <td>https://fedup.wpengine.com/wp-content/uploads/...</td>\n",
       "      <td>https://fedup.wpengine.com/wp-content/uploads/...</td>\n",
       "      <td>left-news</td>\n",
       "      <td>https://fedup.wpengine.com/wp-content/uploads/...</td>\n",
       "      <td>Fake</td>\n",
       "      <td></td>\n",
       "      <td>24</td>\n",
       "      <td>0</td>\n",
       "      <td>1</td>\n",
       "      <td>0.0</td>\n",
       "      <td>0</td>\n",
       "      <td>0</td>\n",
       "    </tr>\n",
       "  </tbody>\n",
       "</table>\n",
       "</div>"
      ],
      "text/plain": [
       "                                                   title  \\\n",
       "9358   https://100percentfedup.com/served-roy-moore-v...   \n",
       "15507  https://100percentfedup.com/video-hillary-aske...   \n",
       "15508  https://100percentfedup.com/12-yr-old-black-co...   \n",
       "15839  https://fedup.wpengine.com/wp-content/uploads/...   \n",
       "15840  https://fedup.wpengine.com/wp-content/uploads/...   \n",
       "17432  https://fedup.wpengine.com/wp-content/uploads/...   \n",
       "17433  https://fedup.wpengine.com/wp-content/uploads/...   \n",
       "21869  https://fedup.wpengine.com/wp-content/uploads/...   \n",
       "21870  https://fedup.wpengine.com/wp-content/uploads/...   \n",
       "\n",
       "                                                    text          subject  \\\n",
       "9358   https://100percentfedup.com/served-roy-moore-v...         politics   \n",
       "15507  https://100percentfedup.com/video-hillary-aske...         politics   \n",
       "15508  https://100percentfedup.com/12-yr-old-black-co...         politics   \n",
       "15839  https://fedup.wpengine.com/wp-content/uploads/...         politics   \n",
       "15840  https://fedup.wpengine.com/wp-content/uploads/...         politics   \n",
       "17432  https://fedup.wpengine.com/wp-content/uploads/...  Government News   \n",
       "17433  https://fedup.wpengine.com/wp-content/uploads/...  Government News   \n",
       "21869  https://fedup.wpengine.com/wp-content/uploads/...        left-news   \n",
       "21870  https://fedup.wpengine.com/wp-content/uploads/...        left-news   \n",
       "\n",
       "                                                    date label final_text  \\\n",
       "9358   https://100percentfedup.com/served-roy-moore-v...  Fake              \n",
       "15507  https://100percentfedup.com/video-hillary-aske...  Fake              \n",
       "15508  https://100percentfedup.com/12-yr-old-black-co...  Fake              \n",
       "15839  https://fedup.wpengine.com/wp-content/uploads/...  Fake              \n",
       "15840  https://fedup.wpengine.com/wp-content/uploads/...  Fake              \n",
       "17432  https://fedup.wpengine.com/wp-content/uploads/...  Fake              \n",
       "17433  https://fedup.wpengine.com/wp-content/uploads/...  Fake              \n",
       "21869  https://fedup.wpengine.com/wp-content/uploads/...  Fake              \n",
       "21870  https://fedup.wpengine.com/wp-content/uploads/...  Fake              \n",
       "\n",
       "       number_of_punctuations  number_of_words  number_of_unique_words  \\\n",
       "9358                       38                0                       1   \n",
       "15507                      34                0                       1   \n",
       "15508                      52                0                       1   \n",
       "15839                      24                0                       1   \n",
       "15840                      24                0                       1   \n",
       "17432                      24                0                       1   \n",
       "17433                      24                0                       1   \n",
       "21869                      24                0                       1   \n",
       "21870                      24                0                       1   \n",
       "\n",
       "       avg_number_of_words  number_of_uppercase_words  \\\n",
       "9358                   0.0                          0   \n",
       "15507                  0.0                          0   \n",
       "15508                  0.0                          0   \n",
       "15839                  0.0                          0   \n",
       "15840                  0.0                          0   \n",
       "17432                  0.0                          0   \n",
       "17433                  0.0                          0   \n",
       "21869                  0.0                          0   \n",
       "21870                  0.0                          0   \n",
       "\n",
       "       number_of_lowercase_words  \n",
       "9358                           0  \n",
       "15507                          0  \n",
       "15508                          0  \n",
       "15839                          0  \n",
       "15840                          0  \n",
       "17432                          0  \n",
       "17433                          0  \n",
       "21869                          0  \n",
       "21870                          0  "
      ]
     },
     "execution_count": 14,
     "metadata": {},
     "output_type": "execute_result"
    }
   ],
   "source": [
    "data[data['number_of_words'] == 0]"
   ]
  },
  {
   "cell_type": "markdown",
   "metadata": {},
   "source": [
    "Just as we thought, these are just urls that were removed from the final_text column. We can remove this from our data set easily"
   ]
  },
  {
   "cell_type": "code",
   "execution_count": 15,
   "metadata": {},
   "outputs": [],
   "source": [
    "data = data[data['number_of_words'] > 0]"
   ]
  },
  {
   "cell_type": "code",
   "execution_count": 16,
   "metadata": {},
   "outputs": [
    {
     "data": {
      "text/html": [
       "<div>\n",
       "<style scoped>\n",
       "    .dataframe tbody tr th:only-of-type {\n",
       "        vertical-align: middle;\n",
       "    }\n",
       "\n",
       "    .dataframe tbody tr th {\n",
       "        vertical-align: top;\n",
       "    }\n",
       "\n",
       "    .dataframe thead th {\n",
       "        text-align: right;\n",
       "    }\n",
       "</style>\n",
       "<table border=\"1\" class=\"dataframe\">\n",
       "  <thead>\n",
       "    <tr style=\"text-align: right;\">\n",
       "      <th></th>\n",
       "      <th>number_of_punctuations</th>\n",
       "      <th>number_of_words</th>\n",
       "      <th>number_of_unique_words</th>\n",
       "      <th>avg_number_of_words</th>\n",
       "      <th>number_of_uppercase_words</th>\n",
       "      <th>number_of_lowercase_words</th>\n",
       "    </tr>\n",
       "  </thead>\n",
       "  <tbody>\n",
       "    <tr>\n",
       "      <th>count</th>\n",
       "      <td>44889.0</td>\n",
       "      <td>44889.0</td>\n",
       "      <td>44889.0</td>\n",
       "      <td>44889.0</td>\n",
       "      <td>44889.0</td>\n",
       "      <td>44889.0</td>\n",
       "    </tr>\n",
       "    <tr>\n",
       "      <th>mean</th>\n",
       "      <td>56.8</td>\n",
       "      <td>245.6</td>\n",
       "      <td>168.1</td>\n",
       "      <td>6.3</td>\n",
       "      <td>6.1</td>\n",
       "      <td>239.5</td>\n",
       "    </tr>\n",
       "    <tr>\n",
       "      <th>std</th>\n",
       "      <td>64.5</td>\n",
       "      <td>207.2</td>\n",
       "      <td>118.7</td>\n",
       "      <td>0.4</td>\n",
       "      <td>8.5</td>\n",
       "      <td>202.8</td>\n",
       "    </tr>\n",
       "    <tr>\n",
       "      <th>min</th>\n",
       "      <td>0.0</td>\n",
       "      <td>4.0</td>\n",
       "      <td>4.0</td>\n",
       "      <td>4.3</td>\n",
       "      <td>0.0</td>\n",
       "      <td>0.0</td>\n",
       "    </tr>\n",
       "    <tr>\n",
       "      <th>25%</th>\n",
       "      <td>28.0</td>\n",
       "      <td>130.0</td>\n",
       "      <td>96.0</td>\n",
       "      <td>6.1</td>\n",
       "      <td>2.0</td>\n",
       "      <td>124.0</td>\n",
       "    </tr>\n",
       "    <tr>\n",
       "      <th>50%</th>\n",
       "      <td>47.0</td>\n",
       "      <td>218.0</td>\n",
       "      <td>156.0</td>\n",
       "      <td>6.3</td>\n",
       "      <td>4.0</td>\n",
       "      <td>213.0</td>\n",
       "    </tr>\n",
       "    <tr>\n",
       "      <th>75%</th>\n",
       "      <td>71.0</td>\n",
       "      <td>306.0</td>\n",
       "      <td>212.0</td>\n",
       "      <td>6.6</td>\n",
       "      <td>7.0</td>\n",
       "      <td>300.0</td>\n",
       "    </tr>\n",
       "    <tr>\n",
       "      <th>max</th>\n",
       "      <td>7295.0</td>\n",
       "      <td>5066.0</td>\n",
       "      <td>2335.0</td>\n",
       "      <td>18.7</td>\n",
       "      <td>313.0</td>\n",
       "      <td>4944.0</td>\n",
       "    </tr>\n",
       "  </tbody>\n",
       "</table>\n",
       "</div>"
      ],
      "text/plain": [
       "       number_of_punctuations  number_of_words  number_of_unique_words  \\\n",
       "count                 44889.0          44889.0                 44889.0   \n",
       "mean                     56.8            245.6                   168.1   \n",
       "std                      64.5            207.2                   118.7   \n",
       "min                       0.0              4.0                     4.0   \n",
       "25%                      28.0            130.0                    96.0   \n",
       "50%                      47.0            218.0                   156.0   \n",
       "75%                      71.0            306.0                   212.0   \n",
       "max                    7295.0           5066.0                  2335.0   \n",
       "\n",
       "       avg_number_of_words  number_of_uppercase_words  \\\n",
       "count              44889.0                    44889.0   \n",
       "mean                   6.3                        6.1   \n",
       "std                    0.4                        8.5   \n",
       "min                    4.3                        0.0   \n",
       "25%                    6.1                        2.0   \n",
       "50%                    6.3                        4.0   \n",
       "75%                    6.6                        7.0   \n",
       "max                   18.7                      313.0   \n",
       "\n",
       "       number_of_lowercase_words  \n",
       "count                    44889.0  \n",
       "mean                       239.5  \n",
       "std                        202.8  \n",
       "min                          0.0  \n",
       "25%                        124.0  \n",
       "50%                        213.0  \n",
       "75%                        300.0  \n",
       "max                       4944.0  "
      ]
     },
     "execution_count": 16,
     "metadata": {},
     "output_type": "execute_result"
    }
   ],
   "source": [
    "data_desc = data.describe().round(1)\n",
    "data_desc"
   ]
  },
  {
   "cell_type": "markdown",
   "metadata": {},
   "source": [
    "We notice theres a large difference between the 75% quantile and the maximum for all the columns above. This means there exists one or more texts that have a much higher corpus of words than the majority. When looking at the distribution these will appear right skewed with majority of the data lying in the left. \n",
    "\n",
    "**For visualisation purposes we will only subset the data to only include words with less than 2000 words**"
   ]
  },
  {
   "cell_type": "code",
   "execution_count": 17,
   "metadata": {},
   "outputs": [],
   "source": [
    "subset_for_viz = data[data['number_of_words'] <= 2000]"
   ]
  },
  {
   "cell_type": "code",
   "execution_count": 18,
   "metadata": {},
   "outputs": [
    {
     "data": {
      "image/png": "[encoded data removed]",
      "text/plain": [
       "<Figure size 488.375x360 with 1 Axes>"
      ]
     },
     "metadata": {
      "needs_background": "light"
     },
     "output_type": "display_data"
    }
   ],
   "source": [
    "import seaborn as sns\n",
    "sns.catplot(x = 'label', hue = 'subject', kind = 'count', data = data)\n",
    "plt.title('Number of news articles by subject & label')\n",
    "plt.ylabel('Count')\n",
    "plt.xlabel('Label')\n",
    "plt.show()"
   ]
  },
  {
   "cell_type": "markdown",
   "metadata": {},
   "source": [
    "It is clear to see the subject column will not provide us with any additional insight in being able to identify a fake from a true news article. This will be ommitted from the model."
   ]
  },
  {
   "cell_type": "code",
   "execution_count": 19,
   "metadata": {},
   "outputs": [],
   "source": [
    "cols = ['number_of_words','number_of_unique_words','avg_number_of_words','number_of_uppercase_words','number_of_lowercase_words','number_of_punctuations']\n",
    "\n",
    "def DistributionPlot(column):\n",
    "    x1 = subset_for_viz[subset_for_viz['label'] == 'True'][column]\n",
    "    x2 = subset_for_viz[subset_for_viz['label'] == 'Fake'][column]\n",
    "    \n",
    "    heading = ' '.join(column.split('_')).capitalize() + ' in text'\n",
    "    \n",
    "    fig, (ax1,ax2) = plt.subplots(1, 2, figsize = (7,7))\n",
    "    sns.distplot(x1 , color = \"blue\", ax = ax1, axlabel = '')\n",
    "    ax1.set_title('True')\n",
    "    sns.distplot(x2 , color = \"green\", ax = ax2, axlabel = '')\n",
    "    ax2.set_title('Fake')\n",
    "    fig.suptitle(heading)\n",
    "    plt.show()"
   ]
  },
  {
   "cell_type": "code",
   "execution_count": 20,
   "metadata": {},
   "outputs": [
    {
     "data": {
      "image/png": "[encoded data removed]",
      "text/plain": [
       "<Figure size 504x504 with 2 Axes>"
      ]
     },
     "metadata": {
      "needs_background": "light"
     },
     "output_type": "display_data"
    }
   ],
   "source": [
    "DistributionPlot('number_of_words')"
   ]
  },
  {
   "cell_type": "markdown",
   "metadata": {},
   "source": [
    "The distribution for both fake and true news texts show that majority of texts are less than 500 words. We see peaks at around 250 for both. For true news texts there is a large peak at around 50 or so words, these could be tweets possibly."
   ]
  },
  {
   "cell_type": "code",
   "execution_count": 21,
   "metadata": {},
   "outputs": [
    {
     "data": {
      "image/png": "[encoded data removed]",
      "text/plain": [
       "<Figure size 504x504 with 2 Axes>"
      ]
     },
     "metadata": {
      "needs_background": "light"
     },
     "output_type": "display_data"
    },
    {
     "data": {
      "image/png": "[encoded data removed]",
      "text/plain": [
       "<Figure size 504x504 with 2 Axes>"
      ]
     },
     "metadata": {
      "needs_background": "light"
     },
     "output_type": "display_data"
    }
   ],
   "source": [
    "DistributionPlot('number_of_unique_words')\n",
    "DistributionPlot('avg_number_of_words')"
   ]
  },
  {
   "cell_type": "markdown",
   "metadata": {},
   "source": [
    "The unique words distribution is very similar to the number of words, expectedly. For average word however we see that news labeled as true has a very symmetrical distribution with average number of words by 6.5. This is similar to the news labeled as fake. The peak is around 6.5"
   ]
  },
  {
   "cell_type": "code",
   "execution_count": 22,
   "metadata": {},
   "outputs": [
    {
     "data": {
      "image/png": "[encoded data removed]",
      "text/plain": [
       "<Figure size 504x504 with 2 Axes>"
      ]
     },
     "metadata": {
      "needs_background": "light"
     },
     "output_type": "display_data"
    },
    {
     "data": {
      "image/png": "[encoded data removed]",
      "text/plain": [
       "<Figure size 504x504 with 2 Axes>"
      ]
     },
     "metadata": {
      "needs_background": "light"
     },
     "output_type": "display_data"
    },
    {
     "data": {
      "image/png": "[encoded data removed]",
      "text/plain": [
       "<Figure size 504x504 with 2 Axes>"
      ]
     },
     "metadata": {
      "needs_background": "light"
     },
     "output_type": "display_data"
    }
   ],
   "source": [
    "DistributionPlot('number_of_uppercase_words')\n",
    "DistributionPlot('number_of_lowercase_words')\n",
    "DistributionPlot('number_of_punctuations')"
   ]
  },
  {
   "cell_type": "markdown",
   "metadata": {},
   "source": [
    "There are not many fully uppercased words in either fake or true new articles however from the x axis it is clear to see that fake news contain more uppercased words. This is why the distribution of lowercase words is practically identical to the distribution of number of words in a text. \n",
    "\n",
    "It is clear the number of punctuations used in true texts are higher than fake texts. One can argue the use of punctuation is a good indicator of someones ability to write concise articles which are likely to be truth."
   ]
  },
  {
   "cell_type": "markdown",
   "metadata": {},
   "source": [
    "**Preprocessing data for our LSTM RNN**"
   ]
  },
  {
   "cell_type": "markdown",
   "metadata": {},
   "source": [
    "Before we train a model to predict whether or not a given text is fake or true we will be generating an embedding matrix which will provide us with a vector representation of our text. For ML models we are required to transform the text to numbers so it can be fed into a given model, however rather than just generating a simple\n",
    "tokenized vector of our string (words to numbers) we will be using Word2Vec to create an embedding vector for all the words in our corpus (text).\n",
    "\n",
    "Word2Vec is an extremely powerful and popular embedding tool that has the ability to capture context and similarities between words in a given corpus (text). It was created and published by a team of researchers led by Tomas Mikolov at Google.\n",
    "\n",
    "Wikipedia link: https://en.wikipedia.org/wiki/Word2vec"
   ]
  },
  {
   "cell_type": "code",
   "execution_count": 23,
   "metadata": {},
   "outputs": [],
   "source": [
    "def GetSentences(series):\n",
    "    output = []\n",
    "    for text in series:\n",
    "        output.append(text.split())\n",
    "    \n",
    "    return output\n",
    "        \n",
    "# Each text is now represented as list of its words\n",
    "sentences = GetSentences(data['final_text'])"
   ]
  },
  {
   "cell_type": "code",
   "execution_count": 24,
   "metadata": {},
   "outputs": [
    {
     "data": {
      "text/plain": [
       "['donald',\n",
       " 'trump',\n",
       " 'sends',\n",
       " 'embarrassing',\n",
       " 'new',\n",
       " 'year',\n",
       " 'eve',\n",
       " 'message',\n",
       " 'disturbing',\n",
       " 'donald',\n",
       " 'trump',\n",
       " 'wish',\n",
       " 'americans',\n",
       " 'happy',\n",
       " 'new',\n",
       " 'year',\n",
       " 'leave',\n",
       " 'instead',\n",
       " 'give',\n",
       " 'shout',\n",
       " 'enemies',\n",
       " 'haters',\n",
       " 'dishonest',\n",
       " 'fake',\n",
       " 'news',\n",
       " 'media',\n",
       " 'former',\n",
       " 'reality',\n",
       " 'show',\n",
       " 'star',\n",
       " 'one',\n",
       " 'job',\n",
       " 'country',\n",
       " 'rapidly',\n",
       " 'grows',\n",
       " 'stronger',\n",
       " 'smarter',\n",
       " 'want',\n",
       " 'wish',\n",
       " 'friends',\n",
       " 'supporters',\n",
       " 'enemies',\n",
       " 'haters',\n",
       " 'even',\n",
       " 'dishonest',\n",
       " 'fake',\n",
       " 'news',\n",
       " 'media',\n",
       " 'happy',\n",
       " 'healthy',\n",
       " 'new',\n",
       " 'year',\n",
       " 'president',\n",
       " 'angry',\n",
       " 'pants',\n",
       " 'tweeted',\n",
       " '2018',\n",
       " 'great',\n",
       " 'year',\n",
       " 'america',\n",
       " 'country',\n",
       " 'rapidly',\n",
       " 'grows',\n",
       " 'stronger',\n",
       " 'smarter',\n",
       " 'want',\n",
       " 'wish',\n",
       " 'friends',\n",
       " 'supporters',\n",
       " 'enemies',\n",
       " 'haters',\n",
       " 'even',\n",
       " 'dishonest',\n",
       " 'fake',\n",
       " 'news',\n",
       " 'media',\n",
       " 'happy',\n",
       " 'healthy',\n",
       " 'new',\n",
       " 'year',\n",
       " '2018',\n",
       " 'great',\n",
       " 'year',\n",
       " 'america',\n",
       " 'donald',\n",
       " 'trump',\n",
       " 'realdonaldtrump',\n",
       " 'december',\n",
       " '31',\n",
       " '2017trump',\n",
       " 'tweet',\n",
       " 'went',\n",
       " 'welll',\n",
       " 'expect',\n",
       " 'kind',\n",
       " 'president',\n",
       " 'sends',\n",
       " 'new',\n",
       " 'year',\n",
       " 'greeting',\n",
       " 'like',\n",
       " 'despicable',\n",
       " 'petty',\n",
       " 'infantile',\n",
       " 'gibberish',\n",
       " 'trump',\n",
       " 'lack',\n",
       " 'decency',\n",
       " 'even',\n",
       " 'allow',\n",
       " 'rise',\n",
       " 'gutter',\n",
       " 'long',\n",
       " 'enough',\n",
       " 'wish',\n",
       " 'american',\n",
       " 'citizens',\n",
       " 'happy',\n",
       " 'new',\n",
       " 'year',\n",
       " 'bishop',\n",
       " 'talbert',\n",
       " 'swan',\n",
       " 'talbertswan',\n",
       " 'december',\n",
       " '31',\n",
       " '2017no',\n",
       " 'one',\n",
       " 'likes',\n",
       " 'calvin',\n",
       " 'calvinstowell',\n",
       " 'december',\n",
       " '31',\n",
       " '2017your',\n",
       " 'impeachment',\n",
       " 'would',\n",
       " 'make',\n",
       " '2018',\n",
       " 'great',\n",
       " 'year',\n",
       " 'america',\n",
       " 'also',\n",
       " 'accept',\n",
       " 'regaining',\n",
       " 'control',\n",
       " 'congress',\n",
       " 'miranda',\n",
       " 'yaver',\n",
       " 'mirandayaver',\n",
       " 'december',\n",
       " '31',\n",
       " '2017do',\n",
       " 'hear',\n",
       " 'talk',\n",
       " 'include',\n",
       " 'many',\n",
       " 'people',\n",
       " 'hate',\n",
       " 'wonder',\n",
       " 'hate',\n",
       " 'alan',\n",
       " 'sandoval',\n",
       " 'alansandoval13',\n",
       " 'december',\n",
       " '31',\n",
       " '2017who',\n",
       " 'uses',\n",
       " 'word',\n",
       " 'haters',\n",
       " 'new',\n",
       " 'years',\n",
       " 'wish',\n",
       " 'marlene',\n",
       " 'marlene399',\n",
       " 'december',\n",
       " '31',\n",
       " '2017you',\n",
       " 'say',\n",
       " 'happy',\n",
       " 'new',\n",
       " 'year',\n",
       " 'koren',\n",
       " 'pollitt',\n",
       " 'korencarpenter',\n",
       " 'december',\n",
       " '31',\n",
       " '2017here',\n",
       " 'trump',\n",
       " 'new',\n",
       " 'year',\n",
       " 'eve',\n",
       " 'tweet',\n",
       " '2016',\n",
       " 'happy',\n",
       " 'new',\n",
       " 'year',\n",
       " 'including',\n",
       " 'many',\n",
       " 'enemies',\n",
       " 'fought',\n",
       " 'lost',\n",
       " 'badly',\n",
       " 'know',\n",
       " 'love',\n",
       " 'donald',\n",
       " 'trump',\n",
       " 'realdonaldtrump',\n",
       " 'december',\n",
       " '31',\n",
       " '2016this',\n",
       " 'nothing',\n",
       " 'new',\n",
       " 'trump',\n",
       " 'years',\n",
       " 'trump',\n",
       " 'directed',\n",
       " 'messages',\n",
       " 'enemies',\n",
       " 'haters',\n",
       " 'new',\n",
       " 'year',\n",
       " 'easter',\n",
       " 'thanksgiving',\n",
       " 'anniversary',\n",
       " '11',\n",
       " 'pic',\n",
       " 'twitter',\n",
       " 'com',\n",
       " '4fpae2kypa',\n",
       " 'daniel',\n",
       " 'dale',\n",
       " 'ddale8',\n",
       " 'december',\n",
       " '31',\n",
       " '2017trump',\n",
       " 'holiday',\n",
       " 'tweets',\n",
       " 'clearly',\n",
       " 'presidential',\n",
       " 'long',\n",
       " 'work',\n",
       " 'hallmark',\n",
       " 'becoming',\n",
       " 'president',\n",
       " 'steven',\n",
       " 'goodine',\n",
       " 'sgoodine',\n",
       " 'december',\n",
       " '31',\n",
       " '2017he',\n",
       " 'always',\n",
       " 'like',\n",
       " 'difference',\n",
       " 'last',\n",
       " 'years',\n",
       " 'filter',\n",
       " 'breaking',\n",
       " 'roy',\n",
       " 'schulze',\n",
       " 'thbthttt',\n",
       " 'december',\n",
       " '31',\n",
       " '2017who',\n",
       " 'apart',\n",
       " 'teenager',\n",
       " 'uses',\n",
       " 'term',\n",
       " 'haters',\n",
       " 'wendy',\n",
       " 'wendywhistles',\n",
       " 'december',\n",
       " '31',\n",
       " '2017he',\n",
       " 'fucking',\n",
       " 'year',\n",
       " 'old',\n",
       " 'knows',\n",
       " 'rainyday80',\n",
       " 'december',\n",
       " '31',\n",
       " '2017so',\n",
       " 'people',\n",
       " 'voted',\n",
       " 'hole',\n",
       " 'thinking',\n",
       " 'would',\n",
       " 'change',\n",
       " 'got',\n",
       " 'power',\n",
       " 'wrong',\n",
       " '70',\n",
       " 'year',\n",
       " 'old',\n",
       " 'men',\n",
       " 'change',\n",
       " 'year',\n",
       " 'older',\n",
       " 'photo',\n",
       " 'andrew',\n",
       " 'burton',\n",
       " 'getty',\n",
       " 'images']"
      ]
     },
     "execution_count": 24,
     "metadata": {},
     "output_type": "execute_result"
    }
   ],
   "source": [
    "sentences[0]"
   ]
  },
  {
   "cell_type": "markdown",
   "metadata": {},
   "source": [
    "Sentences is a list which contains each article represented as a list of its words from the 'final_text' column in our data dataframe.\n",
    "\n",
    "We will use the gensim package and the models.Word2Vec method to train a word2vec model with dimension (size) = 100. This will train and output each word as a 100 dimension vector which contain probabilities of 'closeness' to the other words around it. This 'closeness' will represent similar context and meanings to other words. We will use the default window size of 5, so that each worh will be trained against 5 words to the left and right of it. Another parameter is min_count which will only train words that appear at least 5 times in the entire corpus. Any words appearing less than 5 times are ignored and will have a vector of 0s. "
   ]
  },
  {
   "cell_type": "code",
   "execution_count": 25,
   "metadata": {},
   "outputs": [
    {
     "name": "stdout",
     "output_type": "stream",
     "text": [
      "46211 words are now represented individually as a vector of size 100\n"
     ]
    }
   ],
   "source": [
    "# Train the Word2Vec model on our sentences using a dimensional size of 100, window of 5, and a min_count of 5 (these are default).\n",
    "wv_model = gensim.models.Word2Vec(sentences = sentences, size = 100, window = 5, min_count = 5)\n",
    "print('%s words are now represented individually as a vector of size 100' % len(wv_model.wv.vocab))"
   ]
  },
  {
   "cell_type": "markdown",
   "metadata": {},
   "source": [
    "We should remember that we used min_count = 5 which has resulted in less words in our Word2vec model than the total number of unique words in our corpus. Decreasing min_count would result in more words being available in our Word2vec model. \n",
    "\n",
    "We can extract words with high similarities using the code below."
   ]
  },
  {
   "cell_type": "code",
   "execution_count": 26,
   "metadata": {},
   "outputs": [
    {
     "name": "stdout",
     "output_type": "stream",
     "text": [
      "Most similar words to twitter are: \n",
      "[('2017twitter', 0.655044674873352), ('tweet', 0.6503632664680481), ('instagram', 0.6318762898445129), ('donaldjtrump', 0.6290934681892395), ('googlesyndication', 0.6273090839385986), ('tweets', 0.5873168706893921), ('lawnewz', 0.5854321122169495), ('xhamster', 0.581581711769104), ('dailymail', 0.5737782716751099), ('100percentfedup', 0.5704927444458008)]\n",
      "Most similar words to write are: \n",
      "[('read', 0.6337066888809204), ('publish', 0.6289035081863403), ('writing', 0.5856404304504395), ('assure', 0.5848867893218994), ('learn', 0.5669413805007935), ('explain', 0.5628056526184082), ('submit', 0.5603357553482056), ('inform', 0.554432213306427), ('reading', 0.5540072917938232), ('spell', 0.552873969078064)]\n",
      "Most similar words to male are: \n",
      "[('males', 0.7487133741378784), ('heterosexual', 0.6798708438873291), ('impregnate', 0.6648569703102112), ('folk', 0.6641701459884644), ('pasty', 0.6589733362197876), ('female', 0.6476230025291443), ('rednecks', 0.638971209526062), ('robes', 0.6338258981704712), ('females', 0.6124987602233887), ('men', 0.6016547679901123)]\n"
     ]
    }
   ],
   "source": [
    "def GetMostSimilarWords(word):\n",
    "    word = word.lower()\n",
    "    return print('Most similar words to %s are: \\n%s' %(word,wv_model.wv.most_similar(word)))\n",
    "\n",
    "GetMostSimilarWords('twitter')\n",
    "GetMostSimilarWords('write')\n",
    "GetMostSimilarWords('male')"
   ]
  },
  {
   "cell_type": "markdown",
   "metadata": {},
   "source": [
    "**Lets build a model now**"
   ]
  },
  {
   "cell_type": "code",
   "execution_count": 27,
   "metadata": {},
   "outputs": [
    {
     "name": "stderr",
     "output_type": "stream",
     "text": [
      "Using TensorFlow backend.\n"
     ]
    }
   ],
   "source": [
    "# Keras tools for creating our model\n",
    "from keras.preprocessing.text import Tokenizer\n",
    "from keras.preprocessing.sequence import pad_sequences\n",
    "from keras.models import Sequential\n",
    "from keras.layers import Dense, Embedding, LSTM\n",
    "from sklearn.model_selection import train_test_split\n",
    "from sklearn.metrics import classification_report, accuracy_score, confusion_matrix"
   ]
  },
  {
   "cell_type": "code",
   "execution_count": 28,
   "metadata": {},
   "outputs": [],
   "source": [
    "# Transform each word to a number in our corpus to be fed into the NN\n",
    "our_tokenizer = Tokenizer()\n",
    "our_tokenizer.fit_on_texts(sentences)\n",
    "tokenized_sentences = our_tokenizer.texts_to_sequences(sentences)"
   ]
  },
  {
   "cell_type": "markdown",
   "metadata": {},
   "source": [
    "We've transformed all the words in the sentence list into a numerical number. This is so we can feed it into our model. However, each text in our data is of a different length and we need to have a fixed size of our input array. So, referring back to our distribution for number of words we see that a good input size would be roughly 800 words. The easiest way is to pad our tokenized_sentences into an array of 800 columns."
   ]
  },
  {
   "cell_type": "code",
   "execution_count": 29,
   "metadata": {},
   "outputs": [],
   "source": [
    "tokenized_sentences = pad_sequences(tokenized_sentences, maxlen = 800)\n",
    "target = data['label'].values\n",
    "target = [1 if x == 'True' else 0 for x in target]"
   ]
  },
  {
   "cell_type": "markdown",
   "metadata": {},
   "source": [
    "What we have done here is restricted the number of words in the text to be only 800. If a text only has 500 words then the first 300 are padded with 0s\n",
    "as the first tokenized_sentence index starts at 1. For texts with length more than 800, the first x - 800 are ignored and only the last 800 are retained. Our input array needs to be fixed\n",
    "in a Neural Network that has a many (texts) to one (the output) model structure.\n",
    "\n",
    "Furthermore, we have extracted the labels and turned into numericals with True = 1 and Fake = 0."
   ]
  },
  {
   "cell_type": "code",
   "execution_count": 30,
   "metadata": {},
   "outputs": [],
   "source": [
    "# Create our training and testing split\n",
    "X_train, X_test, y_train, y_test = train_test_split(tokenized_sentences, target, test_size = 0.20, random_state = 0)"
   ]
  },
  {
   "cell_type": "markdown",
   "metadata": {},
   "source": [
    "We've now split the data into a training and testing set. This is vital as we want to first train our data on some training set and then evaluate the model using a set of data the model has never seen. Our training set will be 70% of the data and the remaining 30% is for testing."
   ]
  },
  {
   "cell_type": "code",
   "execution_count": 31,
   "metadata": {},
   "outputs": [],
   "source": [
    "vocabulary_length = len(our_tokenizer.word_index) + 1"
   ]
  },
  {
   "cell_type": "markdown",
   "metadata": {},
   "source": [
    "Although the total number of unique words in our data 118,638. We need to treat 0 (used for padded words) as a word. We can now create a matrix with each row representing the Word2vec vector of a unique word."
   ]
  },
  {
   "cell_type": "code",
   "execution_count": 32,
   "metadata": {},
   "outputs": [],
   "source": [
    "def GetEmbeddingMatrix(dictionary_of_words, word2vec_model, vocabulary_length, embedding_size = 100):\n",
    "    # Define an empty matrix\n",
    "    embedding_matrix = np.zeros((vocabulary_length, embedding_size))\n",
    "    # For each word store the vector in the matrix using the mapping (position) of i\n",
    "    for word, i in dictionary_of_words.items():\n",
    "        if not word2vec_model.wv.__contains__(word):\n",
    "            continue\n",
    "        else:\n",
    "            embedding_matrix[i] = word2vec_model.wv.__getitem__(word)\n",
    "    return embedding_matrix\n",
    "\n",
    "embedding_matrix = GetEmbeddingMatrix(our_tokenizer.word_index, wv_model, vocabulary_length)"
   ]
  },
  {
   "cell_type": "markdown",
   "metadata": {},
   "source": [
    "**What is this embedding matrix we've created?**\n",
    "\n",
    "This is a matrix where the index (row number) represents a single word in our corpus. The 100 columns contain the 100 length vectors from our word2vec model.\n",
    "When a single number (representing a word) is used as an input, the model will take in the 100 length vector instead as it represents more data than just a single number."
   ]
  },
  {
   "cell_type": "markdown",
   "metadata": {},
   "source": [
    "**Building the actual model**"
   ]
  },
  {
   "cell_type": "code",
   "execution_count": 33,
   "metadata": {},
   "outputs": [],
   "source": [
    "model = Sequential()\n",
    "embedding_layer = Embedding(vocabulary_length, output_dim = 100, weights = [embedding_matrix], input_length = 800, trainable = False)"
   ]
  },
  {
   "cell_type": "markdown",
   "metadata": {},
   "source": [
    "In the embedding layer we need to state the input dimension which is simply the number of unique words in our corpus. The output dimension is the length of each vector in this case we used 100 when training our word2vec model. The weights come from the embedding matrix we created above. In the input length is set at 800 as we padded our tokenized texts to be of length 800. Finally, this layer will be untrainable due to the fact we've already constructed a trainable word2vec model on our corpus."
   ]
  },
  {
   "cell_type": "code",
   "execution_count": 34,
   "metadata": {},
   "outputs": [],
   "source": [
    "model.add(embedding_layer)\n",
    "model.add(LSTM(units = 128))\n",
    "model.add(Dense(1, activation = 'sigmoid'))\n",
    "model.compile(optimizer = 'adam', loss = 'binary_crossentropy', metrics = ['acc'])"
   ]
  },
  {
   "cell_type": "markdown",
   "metadata": {},
   "source": [
    "We have an untrainable embedding layer as the first layer in the model. Then this is followed by the LSTM layer we mentioned at the very start. This is the layer which we use to incorporate a long term memory ability into to the model. Finally we use a dense layer which is essentially a simple neural network layer that has a single output unit."
   ]
  },
  {
   "cell_type": "code",
   "execution_count": 35,
   "metadata": {},
   "outputs": [
    {
     "name": "stdout",
     "output_type": "stream",
     "text": [
      "Train on 25137 samples, validate on 10774 samples\n",
      "Epoch 1/10\n",
      "25137/25137 [==============================] - 600s 24ms/step - loss: 0.1270 - acc: 0.9563 - val_loss: 0.1173 - val_acc: 0.9587\n",
      "Epoch 2/10\n",
      "25137/25137 [==============================] - 595s 24ms/step - loss: 0.0672 - acc: 0.9772 - val_loss: 0.0272 - val_acc: 0.9918\n",
      "Epoch 3/10\n",
      "25137/25137 [==============================] - 659s 26ms/step - loss: 0.0693 - acc: 0.9770 - val_loss: 0.0866 - val_acc: 0.9712\n",
      "Epoch 4/10\n",
      "25137/25137 [==============================] - 612s 24ms/step - loss: 0.0525 - acc: 0.9826 - val_loss: 0.0410 - val_acc: 0.9865\n",
      "Epoch 5/10\n",
      "25137/25137 [==============================] - 630s 25ms/step - loss: 0.0232 - acc: 0.9932 - val_loss: 0.0252 - val_acc: 0.9919\n",
      "Epoch 6/10\n",
      "25137/25137 [==============================] - 599s 24ms/step - loss: 0.0129 - acc: 0.9969 - val_loss: 0.0156 - val_acc: 0.9956\n",
      "Epoch 7/10\n",
      "25137/25137 [==============================] - 661s 26ms/step - loss: 0.0084 - acc: 0.9979 - val_loss: 0.0137 - val_acc: 0.9963\n",
      "Epoch 8/10\n",
      "25137/25137 [==============================] - 705s 28ms/step - loss: 0.0050 - acc: 0.9988 - val_loss: 0.0124 - val_acc: 0.9968\n",
      "Epoch 9/10\n",
      "25137/25137 [==============================] - 712s 28ms/step - loss: 0.0042 - acc: 0.9990 - val_loss: 0.0140 - val_acc: 0.9956\n",
      "Epoch 10/10\n",
      "25137/25137 [==============================] - 741s 29ms/step - loss: 0.0034 - acc: 0.9993 - val_loss: 0.0160 - val_acc: 0.9955\n"
     ]
    }
   ],
   "source": [
    "history = model.fit(X_train, y_train, validation_split = 0.3, epochs = 10)"
   ]
  },
  {
   "cell_type": "markdown",
   "metadata": {},
   "source": [
    "Our model has now been trained. \n",
    "\n",
    "**We used a small number of epochs (10) due to the time it take to train on a laptop. If we had access to better hardware we would surely increase**\n",
    "\n",
    "Lets evaluate how the accuracy and the loss have changed throughout each epoch."
   ]
  },
  {
   "cell_type": "code",
   "execution_count": 38,
   "metadata": {},
   "outputs": [
    {
     "data": {
      "image/png": "[encoded data removed]",
      "text/plain": [
       "<Figure size 432x288 with 1 Axes>"
      ]
     },
     "metadata": {
      "needs_background": "light"
     },
     "output_type": "display_data"
    }
   ],
   "source": [
    "plt.plot(history.history['acc'])\n",
    "plt.plot(history.history['val_acc'])\n",
    "plt.title('Model Accuracy')\n",
    "plt.ylabel('Accuracy')\n",
    "plt.xlabel('Epoch')\n",
    "plt.legend(['train','test'], loc = 'lower right')\n",
    "plt.show()"
   ]
  },
  {
   "cell_type": "markdown",
   "metadata": {},
   "source": [
    "We see the accuracy of the model for both trainig and test set shoot up and down in the first 2 epochs but then gradually increase which is ideal. The only slight worrying thing is that the test accuracy slightly comes down about 7 epochs however because we've only used 10 epochs, which is quite small for a model, we can ignore this."
   ]
  },
  {
   "cell_type": "code",
   "execution_count": 39,
   "metadata": {},
   "outputs": [
    {
     "data": {
      "image/png": "[encoded data removed]",
      "text/plain": [
       "<Figure size 432x288 with 1 Axes>"
      ]
     },
     "metadata": {
      "needs_background": "light"
     },
     "output_type": "display_data"
    }
   ],
   "source": [
    "plt.plot(history.history['loss'])\n",
    "plt.plot(history.history['val_loss'])\n",
    "plt.title('Model Loss')\n",
    "plt.ylabel('Loss')\n",
    "plt.xlabel('Epoch')\n",
    "plt.legend(['train','test'], loc = 'upper right')\n",
    "plt.show()"
   ]
  },
  {
   "cell_type": "markdown",
   "metadata": {},
   "source": [
    "The loss for the model decreases steadily for both the training testing sets. However similar to the accuracy model, after 6 epochs we see the loss of the test set increases a bit. Again since we're using a small number of epochs we can be happy with this.\n",
    "\n",
    "Lets use the X_test and y_test samples to look into the true negatives, true positives, false negatives, and false positives to evaluate the accuracy of the model we've built. For this first we'll calculate the predictions to X_test."
   ]
  },
  {
   "cell_type": "code",
   "execution_count": 40,
   "metadata": {},
   "outputs": [],
   "source": [
    "predictions = model.predict(X_test)\n",
    "# For predictions with probability above 50% we will take as True and the rest as Fake\n",
    "predictions = (predictions >= 0.5).astype(int)"
   ]
  },
  {
   "cell_type": "code",
   "execution_count": 54,
   "metadata": {},
   "outputs": [
    {
     "name": "stdout",
     "output_type": "stream",
     "text": [
      "True positive (Actual and predicted True): 4254\n",
      "True negative (Actual and predicted False): 4689\n",
      "False positive (Predicted True but actually False): 27\n",
      "False negative (Predicted False but actually True): 8\n"
     ]
    }
   ],
   "source": [
    "confusion_report = confusion_matrix(y_test,predictions)\n",
    "tn, fp, fn, tp = confusion_report.ravel()\n",
    "\n",
    "print('True positive (Actual and predicted True): %s' % tp)\n",
    "print('True negative (Actual and predicted False): %s' % tn)\n",
    "print('False positive (Predicted True but actually False): %s' % fp)\n",
    "print('False negative (Predicted False but actually True): %s' % fn)"
   ]
  },
  {
   "cell_type": "code",
   "execution_count": 58,
   "metadata": {},
   "outputs": [
    {
     "name": "stdout",
     "output_type": "stream",
     "text": [
      "True positive rate is proportion of correctly classified results as True (Recall): 0.9981\n",
      "\n",
      "True negative rate is proportion of correctly classified results as False (Specificity): 0.9943\n",
      "\n",
      "False positive rate is proportion of incorrectly classified results as True: 0.0057\n",
      "\n",
      "False negative rate is proportion of incorrectly classified results as False: 0.0019\n",
      "\n",
      "Precision is proportion of correctly classified True results from all predicted True results: 0.9937\n",
      "\n",
      "False ommision rate is proportion of incorrectly classified False results from all predicted False results: 0.0017\n"
     ]
    }
   ],
   "source": [
    "tpr = tp / (tp + fn)\n",
    "tnr = tn / (tn + fp)\n",
    "fpr = fp / (fp + tn)\n",
    "fnr = fn / (fn + tp)\n",
    "precision = tp / (tp + fp)\n",
    "false_omission_rate = fn / (fn + tn)\n",
    "\n",
    "print('True positive rate is proportion of correctly classified results as True (Recall): %s' %round(tpr,4))\n",
    "print('\\nTrue negative rate is proportion of correctly classified results as False (Specificity): %s' %round(tnr,4))\n",
    "print('\\nFalse positive rate is proportion of incorrectly classified results as True: %s' %round(fpr,4))\n",
    "print('\\nFalse negative rate is proportion of incorrectly classified results as False: %s' %round(fnr,4))\n",
    "print('\\nPrecision is proportion of correctly classified True results from all predicted True results: %s' %round(precision,4))\n",
    "print('\\nFalse ommision rate is proportion of incorrectly classified False results from all predicted False results: %s' %round(false_omission_rate,4))"
   ]
  },
  {
   "cell_type": "markdown",
   "metadata": {},
   "source": [
    "We have quite an accurate model as we have high recall and specificity whilst having low false positive / negative rates based on the testing set. It would seem that accuracies are extremely high and some may assume the model overfits however we can argue that we retained 20% of the data for testing purposes and only trained on 80% of the data.\n",
    "\n",
    "**Improvements**\n",
    "* We can take another dataset of fake and true news articles and see how the model performs on that\n",
    "* Increase the testing data set to be 30%-40%, train the model again, and then evaluate the performance\n",
    "* Use more data from 2019-2020 as technique to generate fake news articles likely have changed"
   ]
  }
 ],
 "metadata": {
  "kernelspec": {
   "display_name": "Python 3.7.4 64-bit ('anaconda3': virtualenv)",
   "language": "python",
   "name": "python37464bitanaconda3virtualenv20e32cd63c6f41078b835cd28470013b"
  },
  "language_info": {
   "codemirror_mode": {
    "name": "ipython",
    "version": 3
   },
   "file_extension": ".py",
   "mimetype": "text/x-python",
   "name": "python",
   "nbconvert_exporter": "python",
   "pygments_lexer": "ipython3",
   "version": "3.7.4"
  }
 },
 "nbformat": 4,
 "nbformat_minor": 2
}
